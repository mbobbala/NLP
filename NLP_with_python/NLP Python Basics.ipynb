{
 "cells": [
  {
   "cell_type": "markdown",
   "metadata": {},
   "source": [
    "# NLP Python Basics\n",
    "\n",
    "https://www.analyticsvidhya.com/blog/2017/01/ultimate-guide-to-understand-implement-natural-language-processing-codes-in-python/\n",
    "\n",
    "https://www.analyticsvidhya.com/blog/2017/04/natural-language-processing-made-easy-using-spacy-%E2%80%8Bin-python/\n"
   ]
  },
  {
   "cell_type": "code",
   "execution_count": 1,
   "metadata": {},
   "outputs": [],
   "source": [
    "import spacy\n",
    "nlp = spacy.load('en_core_web_sm')"
   ]
  },
  {
   "cell_type": "markdown",
   "metadata": {},
   "source": [
    "# Tokenization\n",
    "\n",
    "1. Tokenization\n",
    "2. Entities\n",
    "3. Noun Chunks"
   ]
  },
  {
   "cell_type": "code",
   "execution_count": 6,
   "metadata": {},
   "outputs": [
    {
     "name": "stdout",
     "output_type": "stream",
     "text": [
      "Tesla 96\n",
      "Tesla PROPN nsubj\n",
      "is 100\n",
      "is VERB aux\n",
      "looking 100\n",
      "looking VERB ROOT\n",
      "at 85\n",
      "at ADP prep\n",
      "buying 100\n",
      "buying VERB pcomp\n",
      "a 90\n",
      "a DET det\n",
      "US 96\n",
      "US PROPN compound\n",
      "start 92\n",
      "start NOUN compound\n",
      "- 97\n",
      "- PUNCT punct\n",
      "up 92\n",
      "up NOUN dobj\n",
      "for 85\n",
      "for ADP prep\n",
      "$ 99\n",
      "$ SYM quantmod\n",
      "6 93\n",
      "6 NUM compound\n",
      "million 93\n",
      "million NUM pobj\n"
     ]
    }
   ],
   "source": [
    "doc = nlp(u'Tesla is looking at buying a US start-up for $6 million')\n",
    "\n",
    "for token in doc:\n",
    "    print(token.text, token.pos)\n",
    "    print(token.text, token.pos_, token.dep_)\n",
    "\n",
    "print('\\n----')\n",
    "\n",
    "doc = nlp(u'Apple to build a Hong Kong factory for $6 million')\n",
    "\n",
    "for token in doc:\n",
    "    print(token.text, end=' | ')\n"
   ]
  },
  {
   "cell_type": "code",
   "execution_count": 4,
   "metadata": {},
   "outputs": [
    {
     "name": "stdout",
     "output_type": "stream",
     "text": [
      "Apple | to | build | a | Hong | Kong | factory | for | $ | 6 | million | \n",
      "----\n",
      "Apple\n",
      "ORG\n",
      "Hong Kong\n",
      "GPE\n",
      "$6 million\n",
      "MONEY\n",
      "\n",
      "----\n",
      "3\n",
      "\n",
      "----\n",
      "Apple - ORG - Companies, agencies, institutions, etc.\n",
      "Hong Kong - GPE - Countries, cities, states\n",
      "$6 million - MONEY - Monetary values, including unit\n"
     ]
    }
   ],
   "source": [
    "# Entities\n",
    "\n",
    "for entity in doc.ents:\n",
    "    print(entity)\n",
    "    print(entity.label_)\n",
    "\n",
    "print('\\n----')\n",
    "\n",
    "    \n",
    "print(len(doc.ents))\n",
    "\n",
    "print('\\n----')\n",
    "\n",
    "for ent in doc.ents:\n",
    "    print(ent.text+' - '+ent.label_+' - '+str(spacy.explain(ent.label_)))\n"
   ]
  },
  {
   "cell_type": "code",
   "execution_count": 5,
   "metadata": {},
   "outputs": [
    {
     "name": "stdout",
     "output_type": "stream",
     "text": [
      "Autonomous cars\n",
      "insurance liability\n",
      "manufacturers\n"
     ]
    }
   ],
   "source": [
    "# Noun Chunks\n",
    "doc9 = nlp(u\"Autonomous cars shift insurance liability toward manufacturers.\")\n",
    "\n",
    "for chunk in doc9.noun_chunks:\n",
    "    print(chunk.text)"
   ]
  },
  {
   "cell_type": "markdown",
   "metadata": {},
   "source": [
    "# Stemming"
   ]
  },
  {
   "cell_type": "code",
   "execution_count": 8,
   "metadata": {},
   "outputs": [
    {
     "name": "stdout",
     "output_type": "stream",
     "text": [
      "run --> run\n",
      "runner --> runner\n",
      "running --> run\n",
      "ran --> ran\n",
      "runs --> run\n",
      "easily --> easili\n",
      "fairly --> fairli\n"
     ]
    }
   ],
   "source": [
    "# Import the toolkit and the full Porter Stemmer library\n",
    "import nltk\n",
    "from nltk.stem.porter import *\n",
    "p_stemmer = PorterStemmer()\n",
    "\n",
    "words = ['run','runner','running','ran','runs','easily','fairly']\n",
    "for word in words:\n",
    "    print(word+' --> '+p_stemmer.stem(word))"
   ]
  },
  {
   "cell_type": "code",
   "execution_count": 10,
   "metadata": {},
   "outputs": [
    {
     "name": "stdout",
     "output_type": "stream",
     "text": [
      "generous --> generous\n",
      "generation --> generat\n",
      "generously --> generous\n",
      "generate --> generat\n"
     ]
    }
   ],
   "source": [
    "from nltk.stem.snowball import SnowballStemmer\n",
    "\n",
    "# The Snowball Stemmer requires that you pass a language parameter\n",
    "s_stemmer = SnowballStemmer(language='english')\n",
    "\n",
    "words = ['run','runner','running','ran','runs','easily','fairly']\n",
    "words = ['generous','generation','generously','generate']\n",
    "for word in words:\n",
    "    print(word+' --> '+s_stemmer.stem(word))"
   ]
  },
  {
   "cell_type": "markdown",
   "metadata": {},
   "source": [
    "# Lemmatization"
   ]
  },
  {
   "cell_type": "code",
   "execution_count": 13,
   "metadata": {},
   "outputs": [
    {
     "name": "stdout",
     "output_type": "stream",
     "text": [
      "I \t \t PRON \t -PRON-\n",
      "am \t \t VERB \t be\n",
      "a \t \t DET \t a\n",
      "runner \t \t NOUN \t runner\n",
      "running \t \t VERB \t run\n",
      "in \t \t ADP \t in\n",
      "a \t \t DET \t a\n",
      "race \t \t NOUN \t race\n",
      "because \t \t ADP \t because\n",
      "I \t \t PRON \t -PRON-\n",
      "love \t \t VERB \t love\n",
      "to \t \t PART \t to\n",
      "run \t \t VERB \t run\n",
      "since \t \t ADP \t since\n",
      "I \t \t PRON \t -PRON-\n",
      "ran \t \t VERB \t run\n",
      "today \t \t NOUN \t today\n"
     ]
    }
   ],
   "source": [
    "doc1 = nlp(u\"I am a runner running in a race because I love to run since I ran today\")\n",
    "\n",
    "for token in doc1:\n",
    "    print(token.text, '\\t','\\t', token.pos_, '\\t', token.lemma_)"
   ]
  },
  {
   "cell_type": "markdown",
   "metadata": {},
   "source": [
    "# Stop Words"
   ]
  },
  {
   "cell_type": "code",
   "execution_count": 14,
   "metadata": {},
   "outputs": [
    {
     "name": "stdout",
     "output_type": "stream",
     "text": [
      "{'none', 'put', 'hereby', 'various', 'go', 'was', 'does', 'nowhere', 'as', 'behind', 'else', 'when', 'us', 'any', 'who', 'upon', 'neither', 'whereas', 'on', 'during', '’s', 'their', 'he', 'until', 'that', 'used', 'its', 'n‘t', 'though', 'least', 'not', 'three', 'together', 'whereafter', 'well', 'about', 'ca', 'me', 'into', '’re', 'amount', 'even', '’d', 'fifty', 'my', '‘d', 'show', 'throughout', 'yet', 'where', 'five', 'still', 'your', 'whereby', 'whether', 'being', 'whereupon', 'if', 'nothing', 'really', 'last', 'those', 'under', 'enough', 'thence', 'always', 'off', 'becoming', 'indeed', 'just', 'whence', 'had', 'elsewhere', 'own', 'towards', 'may', 'whole', 'somewhere', 'move', 'wherein', 'nine', 'across', 'himself', 'top', 'otherwise', 'these', 'someone', 'ourselves', 'nor', 'each', 'am', 'might', 'two', 'moreover', 'such', 'of', '’m', 'everyone', 'with', 'herein', 'mine', 'whose', 'below', 'call', 'this', 'or', 'him', 'has', 'eight', 'somehow', 'would', 'using', 'however', 'once', 'forty', 'every', 'full', 'amongst', 'which', '‘s', 'nevertheless', 'thereupon', 'been', 're', 'among', 'her', \"n't\", 'while', 'back', 'sometime', 'anyone', '‘re', 'and', 'meanwhile', 'for', 'toward', 'beforehand', 'is', 'yours', 'say', 'have', 'so', 'therein', 'due', 'ours', 'formerly', 'via', 'thereafter', 'onto', 'name', 'above', 'sometimes', 'unless', 'almost', 'it', 'often', 'more', 'whatever', 'latterly', 'why', 'without', 'at', 'never', 'again', 'his', 'could', 'they', 'after', 'former', 'beyond', 'nobody', 'seem', 'up', 'first', 'empty', 'doing', 'make', 'twelve', '‘ve', 'four', '’ll', 'regarding', \"'s\", 'everywhere', 'yourself', 'thru', 'there', 'hundred', 'others', 'than', 'a', 'afterwards', 'n’t', 'perhaps', 'fifteen', 'please', 'we', \"'ll\", 'anywhere', 'made', 'become', 'take', 'see', 'seeming', 'bottom', '’ve', 'the', 'much', 'few', 'out', 'no', 'whom', 'themselves', 'by', 'how', 'whenever', 'next', 'ten', 'namely', 'will', 'quite', 'you', 'here', 'third', 'an', 'also', 'to', 'another', 'both', 'becomes', 'thus', 'she', 'done', '‘m', 'alone', 'everything', 'hereafter', \"'m\", 'ever', 'noone', '‘ll', 'anyway', 'because', 'whoever', 'other', 'serious', 'down', 'twenty', 'them', 'further', 'around', 'same', 'hence', 'therefore', 'in', 'either', 'thereby', 'i', 'part', 'within', 'per', \"'ve\", 'since', 'latter', 'were', 'rather', 'must', 'some', 'sixty', 'our', 'seemed', 'be', 'did', 'from', 'anything', 'wherever', 'besides', 'should', 'can', 'along', 'less', 'already', 'hereupon', 'beside', 'although', 'all', 'itself', 'between', 'get', 'myself', 'but', 'except', 'became', 'eleven', 'mostly', 'whither', 'what', 'front', 'are', 'now', 'against', \"'d\", 'give', 'keep', 'anyhow', 'one', 'too', 'six', 'over', 'through', 'yourselves', 'hers', 'side', 'something', 'before', 'then', 'seems', 'cannot', 'many', 'do', 'herself', 'most', 'several', \"'re\", 'very', 'only'}\n"
     ]
    }
   ],
   "source": [
    "# Print the set of spaCy's default stop words (remember that sets are unordered):\n",
    "print(nlp.Defaults.stop_words)"
   ]
  },
  {
   "cell_type": "code",
   "execution_count": 15,
   "metadata": {},
   "outputs": [
    {
     "data": {
      "text/plain": [
       "326"
      ]
     },
     "execution_count": 15,
     "metadata": {},
     "output_type": "execute_result"
    }
   ],
   "source": [
    "len(nlp.Defaults.stop_words)"
   ]
  },
  {
   "cell_type": "code",
   "execution_count": 16,
   "metadata": {},
   "outputs": [
    {
     "data": {
      "text/plain": [
       "True"
      ]
     },
     "execution_count": 16,
     "metadata": {},
     "output_type": "execute_result"
    }
   ],
   "source": [
    "nlp.vocab['myself'].is_stop"
   ]
  },
  {
   "cell_type": "code",
   "execution_count": 17,
   "metadata": {},
   "outputs": [
    {
     "data": {
      "text/plain": [
       "False"
      ]
     },
     "execution_count": 17,
     "metadata": {},
     "output_type": "execute_result"
    }
   ],
   "source": [
    "nlp.vocab['mystery'].is_stop"
   ]
  }
 ],
 "metadata": {
  "kernelspec": {
   "display_name": "Python 3",
   "language": "python",
   "name": "python3"
  },
  "language_info": {
   "codemirror_mode": {
    "name": "ipython",
    "version": 3
   },
   "file_extension": ".py",
   "mimetype": "text/x-python",
   "name": "python",
   "nbconvert_exporter": "python",
   "pygments_lexer": "ipython3",
   "version": "3.7.6"
  }
 },
 "nbformat": 4,
 "nbformat_minor": 4
}
